{
 "cells": [
  {
   "cell_type": "markdown",
   "metadata": {},
   "source": [
    "Data Analysis\n",
    "\n",
    "\n",
    "\n",
    "\n",
    "Data Collection Data Pre-processing Data Exploration --> Data Visualization\n",
    "\n",
    "Data helps us to draw conclusions -->\n",
    "\n",
    "--> Data Analysis using Python\n",
    "\n",
    "Numpy\n",
    "Pandas\n",
    "--> Data Visualization using Python\n",
    "\n",
    "Matplotlib\n",
    "Seaborn\n",
    "Plotly\n"
   ]
  },
  {
   "cell_type": "markdown",
   "metadata": {},
   "source": []
  }
 ],
 "metadata": {
  "kernelspec": {
   "display_name": ".venv",
   "language": "python",
   "name": "python3"
  },
  "language_info": {
   "codemirror_mode": {
    "name": "ipython",
    "version": 3
   },
   "file_extension": ".py",
   "mimetype": "text/x-python",
   "name": "python",
   "nbconvert_exporter": "python",
   "pygments_lexer": "ipython3",
   "version": "3.12.3"
  }
 },
 "nbformat": 4,
 "nbformat_minor": 2
}
