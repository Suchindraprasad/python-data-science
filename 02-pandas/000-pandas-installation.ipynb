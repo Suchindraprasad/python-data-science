{
 "cells": [
  {
   "cell_type": "code",
   "execution_count": 4,
   "metadata": {},
   "outputs": [],
   "source": [
    "import pandas as pd"
   ]
  },
  {
   "cell_type": "code",
   "execution_count": 3,
   "metadata": {},
   "outputs": [
    {
     "name": "stdout",
     "output_type": "stream",
     "text": [
      "Collecting pandas\n",
      "  Downloading pandas-2.2.3-cp312-cp312-win_amd64.whl.metadata (19 kB)\n",
      "Requirement already satisfied: numpy>=1.26.0 in c:\\users\\lenovo\\documents\\github_local_repositories\\python-data-science\\.venv\\lib\\site-packages (from pandas) (2.1.3)\n",
      "Requirement already satisfied: python-dateutil>=2.8.2 in c:\\users\\lenovo\\documents\\github_local_repositories\\python-data-science\\.venv\\lib\\site-packages (from pandas) (2.9.0.post0)\n",
      "Collecting pytz>=2020.1 (from pandas)\n",
      "  Downloading pytz-2024.2-py2.py3-none-any.whl.metadata (22 kB)\n",
      "Collecting tzdata>=2022.7 (from pandas)\n",
      "  Using cached tzdata-2024.2-py2.py3-none-any.whl.metadata (1.4 kB)\n",
      "Requirement already satisfied: six>=1.5 in c:\\users\\lenovo\\documents\\github_local_repositories\\python-data-science\\.venv\\lib\\site-packages (from python-dateutil>=2.8.2->pandas) (1.16.0)\n",
      "Downloading pandas-2.2.3-cp312-cp312-win_amd64.whl (11.5 MB)\n",
      "   ---------------------------------------- 0.0/11.5 MB ? eta -:--:--\n",
      "   ---------------------------------------- 0.1/11.5 MB 3.8 MB/s eta 0:00:03\n",
      "   -- ------------------------------------- 0.6/11.5 MB 9.6 MB/s eta 0:00:02\n",
      "   ------ --------------------------------- 1.9/11.5 MB 16.8 MB/s eta 0:00:01\n",
      "   --------- ------------------------------ 2.7/11.5 MB 17.2 MB/s eta 0:00:01\n",
      "   --------------- ------------------------ 4.6/11.5 MB 22.5 MB/s eta 0:00:01\n",
      "   -------------------- ------------------- 6.0/11.5 MB 23.9 MB/s eta 0:00:01\n",
      "   ----------------------- ---------------- 6.8/11.5 MB 22.8 MB/s eta 0:00:01\n",
      "   -------------------------- ------------- 7.7/11.5 MB 23.3 MB/s eta 0:00:01\n",
      "   ----------------------------- ---------- 8.6/11.5 MB 22.9 MB/s eta 0:00:01\n",
      "   -------------------------------- ------- 9.4/11.5 MB 22.2 MB/s eta 0:00:01\n",
      "   ----------------------------------- ---- 10.3/11.5 MB 23.4 MB/s eta 0:00:01\n",
      "   ---------------------------------------  11.3/11.5 MB 24.2 MB/s eta 0:00:01\n",
      "   ---------------------------------------  11.5/11.5 MB 22.6 MB/s eta 0:00:01\n",
      "   ---------------------------------------- 11.5/11.5 MB 20.4 MB/s eta 0:00:00\n",
      "Downloading pytz-2024.2-py2.py3-none-any.whl (508 kB)\n",
      "   ---------------------------------------- 0.0/508.0 kB ? eta -:--:--\n",
      "   --------------------------------------- 508.0/508.0 kB 15.6 MB/s eta 0:00:00\n",
      "Using cached tzdata-2024.2-py2.py3-none-any.whl (346 kB)\n",
      "Installing collected packages: pytz, tzdata, pandas\n",
      "Successfully installed pandas-2.2.3 pytz-2024.2 tzdata-2024.2\n",
      "Note: you may need to restart the kernel to use updated packages.\n"
     ]
    },
    {
     "name": "stderr",
     "output_type": "stream",
     "text": [
      "\n",
      "[notice] A new release of pip is available: 24.0 -> 24.3.1\n",
      "[notice] To update, run: python.exe -m pip install --upgrade pip\n"
     ]
    }
   ],
   "source": [
    "pip install pandas"
   ]
  },
  {
   "cell_type": "markdown",
   "metadata": {},
   "source": [
    "# Note: Restart kernel after installation"
   ]
  },
  {
   "cell_type": "code",
   "execution_count": 5,
   "metadata": {},
   "outputs": [
    {
     "data": {
      "text/plain": [
       "'2.2.3'"
      ]
     },
     "execution_count": 5,
     "metadata": {},
     "output_type": "execute_result"
    }
   ],
   "source": [
    "import pandas as pd\n",
    "pd.__version__"
   ]
  },
  {
   "cell_type": "code",
   "execution_count": null,
   "metadata": {},
   "outputs": [],
   "source": []
  }
 ],
 "metadata": {
  "kernelspec": {
   "display_name": ".venv",
   "language": "python",
   "name": "python3"
  },
  "language_info": {
   "codemirror_mode": {
    "name": "ipython",
    "version": 3
   },
   "file_extension": ".py",
   "mimetype": "text/x-python",
   "name": "python",
   "nbconvert_exporter": "python",
   "pygments_lexer": "ipython3",
   "version": "3.12.3"
  }
 },
 "nbformat": 4,
 "nbformat_minor": 2
}
